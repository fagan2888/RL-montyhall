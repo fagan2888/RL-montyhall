{
 "cells": [
  {
   "cell_type": "markdown",
   "metadata": {},
   "source": [
    "# This notebook trains an agent via reinforcement learning to solve the Monty Hall problem"
   ]
  },
  {
   "cell_type": "markdown",
   "metadata": {},
   "source": [
    "It accompanies my long-form article [here](https://medium.com/p/d66918ac5b26)"
   ]
  },
  {
   "cell_type": "markdown",
   "metadata": {},
   "source": [
    "First, some boilerplate"
   ]
  },
  {
   "cell_type": "code",
   "execution_count": 1,
   "metadata": {},
   "outputs": [],
   "source": [
    "import math, random\n",
    "import gym\n",
    "import numpy as np\n",
    "import torch\n",
    "import torch.nn as nn\n",
    "import torch.optim as optim\n",
    "import torch.autograd as autograd"
   ]
  },
  {
   "cell_type": "code",
   "execution_count": 2,
   "metadata": {},
   "outputs": [],
   "source": [
    "from IPython.display import clear_output\n",
    "import matplotlib.pyplot as plt\n",
    "%matplotlib inline"
   ]
  },
  {
   "cell_type": "code",
   "execution_count": 3,
   "metadata": {},
   "outputs": [],
   "source": [
    "np.random.seed(53)"
   ]
  },
  {
   "cell_type": "markdown",
   "metadata": {},
   "source": [
    "This notebook requires CUDA; make an appropriate shorthand for PyTorch's Variable"
   ]
  },
  {
   "cell_type": "code",
   "execution_count": 4,
   "metadata": {},
   "outputs": [],
   "source": [
    "Variable = lambda *args, **kwargs: autograd.Variable(*args, **kwargs).cuda()"
   ]
  },
  {
   "cell_type": "markdown",
   "metadata": {},
   "source": [
    "Replay buffer is not strictly required for reinforcement learning, but helps with convergence"
   ]
  },
  {
   "cell_type": "code",
   "execution_count": 5,
   "metadata": {},
   "outputs": [],
   "source": [
    "from collections import deque\n",
    "\n",
    "class ReplayBuffer(object):\n",
    "    def __init__(self, capacity):\n",
    "        self.buffer = deque(maxlen=capacity)\n",
    "    \n",
    "    def push(self, state, action, reward, next_state, done):\n",
    "        state      = np.expand_dims(state, 0)\n",
    "        next_state = np.expand_dims(next_state, 0)\n",
    "            \n",
    "        self.buffer.append((state, action, reward, next_state, done))\n",
    "    \n",
    "    def sample(self, batch_size):\n",
    "        state, action, reward, next_state, done = zip(*random.sample(self.buffer, batch_size))\n",
    "        return np.concatenate(state), action, reward, np.concatenate(next_state), done\n",
    "    \n",
    "    def __len__(self):\n",
    "        return len(self.buffer)"
   ]
  },
  {
   "cell_type": "markdown",
   "metadata": {},
   "source": [
    "Make an OpenAI compatible gym.\n",
    "\n",
    "No doubt this could be done better; I just did it in the most obvious way.\n",
    "\n",
    "```\n",
    "Game starts: state is [0,0,0]\n",
    "Player picks a door, say the first door: [1,0,0] (array is zero-indexed)\n",
    "Monty opens a door that doesn't have the prize: [1,0,2]\n",
    "Player can choose to stick: [1,0,2] or change door: [0,1,2]\n",
    "Game is judged; player's dominant strategy should be to switch door\n",
    "```"
   ]
  },
  {
   "cell_type": "code",
   "execution_count": 6,
   "metadata": {},
   "outputs": [],
   "source": [
    "from gym import spaces\n",
    "\n",
    "class MyEnv(gym.Env):\n",
    "\n",
    "    def __init__(self):\n",
    "        self.action_space = spaces.Discrete(3) #which door\n",
    "        self.observation_space = spaces.Discrete(3)\n",
    "        self.state = None\n",
    "\n",
    "    def step(self, action):\n",
    "        assert self.action_space.contains(action), \"%r (%s) invalid\"%(action, type(action))\n",
    "        reward = 0.\n",
    "        if self.steps == 0:\n",
    "            reward = 0.33\n",
    "            self.state[action] = 1.\n",
    "            if action == 0:\n",
    "                if self.hidden_state[1] == 1:\n",
    "                    self.state[2] = 2.;\n",
    "                    self.hidden_state[2] = 2.;\n",
    "                elif self.hidden_state[2] == 1:\n",
    "                    self.state[1] = 2.;\n",
    "                    self.hidden_state[1] = 2.;\n",
    "            if action == 1:\n",
    "                if self.hidden_state[0] == 1:\n",
    "                    self.state[2] = 2.;\n",
    "                    self.hidden_state[2] = 2.;\n",
    "                elif self.hidden_state[2] == 1:\n",
    "                    self.state[0] = 2.;\n",
    "                    self.hidden_state[0] = 2.;\n",
    "            if action == 2:\n",
    "                if self.hidden_state[0] == 1:\n",
    "                    self.state[1] = 2.;\n",
    "                    self.hidden_state[1] = 2.;\n",
    "                elif self.hidden_state[1] == 1:\n",
    "                    self.state[0] = 2.;\n",
    "                    self.hidden_state[0] = 2.;\n",
    "        if self.steps == 1:\n",
    "            if self.state[0] == 1: self.state[0] = 0\n",
    "            if self.state[1] == 1: self.state[1] = 0\n",
    "            if self.state[2] == 1: self.state[2] = 0\n",
    "            self.state[action] = 1\n",
    "            won = np.subtract(self.state, self.hidden_state)\n",
    "            won = np.sum(won) == 0\n",
    "            if won:\n",
    "                reward = 1.0\n",
    "            else:\n",
    "                reward = 0.\n",
    "        self.steps = self.steps + 1\n",
    "        if self.steps == 2: self.done = True\n",
    "        return self.state, reward, self.done, {}\n",
    "    \n",
    "    def initial_config(self):\n",
    "        # will return np array like [0., 0., 1] guaranteed to have only a single 1\n",
    "        total = 0\n",
    "        config = None\n",
    "        while total != 1:\n",
    "            config = np.random.choice([0, 1], size=(3,), p=[2./3, 1./3])\n",
    "            total = np.sum(config)\n",
    "        return config\n",
    "    \n",
    "    def reset(self):\n",
    "        self.hidden_state = self.initial_config()\n",
    "        self.state = np.zeros(3)\n",
    "        self.done = False\n",
    "        self.steps = 0\n",
    "        return self.state\n",
    "\n",
    "    def render(self, mode='human'):\n",
    "        return None # Not implementing a nice graphic!"
   ]
  },
  {
   "cell_type": "markdown",
   "metadata": {},
   "source": [
    "## Epsilon-greedy exploration"
   ]
  },
  {
   "cell_type": "code",
   "execution_count": 7,
   "metadata": {},
   "outputs": [],
   "source": [
    "epsilon_start = 1.0\n",
    "epsilon_final = 0.01\n",
    "epsilon_decay = 500\n",
    "\n",
    "epsilon_by_frame = lambda frame_idx: epsilon_final + (epsilon_start - epsilon_final) * math.exp(-1. * frame_idx / epsilon_decay)"
   ]
  },
  {
   "cell_type": "code",
   "execution_count": 8,
   "metadata": {},
   "outputs": [],
   "source": [
    "class DQN(nn.Module):\n",
    "    def __init__(self, num_inputs, num_actions):\n",
    "        super(DQN, self).__init__()\n",
    "        self.layers = nn.Sequential(\n",
    "            nn.Linear(num_inputs, 20),\n",
    "            nn.ReLU(),\n",
    "            nn.Linear(20, 20),\n",
    "            nn.ReLU(),\n",
    "            nn.Linear(20, num_actions)\n",
    "        )\n",
    "        \n",
    "    def forward(self, x):\n",
    "        return self.layers(x)\n",
    "    \n",
    "    def act(self, state, epsilon):\n",
    "        if random.random() > epsilon:\n",
    "            state   = Variable(torch.FloatTensor(state).unsqueeze(0)) # adds extra dim at front\n",
    "            q_value = self.forward(state)\n",
    "            action  = q_value.max(1)[1]\n",
    "        else:\n",
    "            action = random.randrange(env.action_space.n)\n",
    "        return action"
   ]
  },
  {
   "cell_type": "code",
   "execution_count": 9,
   "metadata": {},
   "outputs": [],
   "source": [
    "env = MyEnv()"
   ]
  },
  {
   "cell_type": "code",
   "execution_count": 10,
   "metadata": {},
   "outputs": [
    {
     "name": "stderr",
     "output_type": "stream",
     "text": [
      "/usr/lib/python3.6/site-packages/torch/cuda/__init__.py:116: UserWarning: \n",
      "    Found GPU0 GeForce GTX 960M which is of cuda capability 5.0.\n",
      "    PyTorch no longer supports this GPU because it is too old.\n",
      "    \n",
      "  warnings.warn(old_gpu_warn % (d, name, major, capability[1]))\n"
     ]
    }
   ],
   "source": [
    "model = DQN(env.observation_space.n, env.action_space.n)\n",
    "\n",
    "model = model.cuda()\n",
    "    \n",
    "optimizer = optim.Adam(model.parameters())"
   ]
  },
  {
   "cell_type": "code",
   "execution_count": 11,
   "metadata": {},
   "outputs": [],
   "source": [
    "def compute_td_loss(batch_size):\n",
    "    state, action, reward, next_state, done = replay_buffer.sample(batch_size)\n",
    "\n",
    "    state      = Variable(torch.FloatTensor(state))\n",
    "    next_state = Variable(torch.FloatTensor(next_state))\n",
    "    action     = Variable(torch.LongTensor(action))\n",
    "    reward     = Variable(torch.FloatTensor(reward))\n",
    "    done       = Variable(torch.FloatTensor(done))\n",
    "\n",
    "    q_values      = model(state)\n",
    "    next_q_values = model(next_state)\n",
    "\n",
    "    q_value          = q_values.gather(1, action.unsqueeze(1)).squeeze(1)\n",
    "    next_q_value     = next_q_values.max(1)[0]\n",
    "    expected_q_value = reward + gamma * next_q_value * (1 - done)\n",
    "    loss = (q_value - Variable(expected_q_value.data)).pow(2).mean()\n",
    "        \n",
    "    optimizer.zero_grad()\n",
    "    loss.backward()\n",
    "    optimizer.step()\n",
    "    \n",
    "    return loss"
   ]
  },
  {
   "cell_type": "code",
   "execution_count": 12,
   "metadata": {},
   "outputs": [
    {
     "data": {
      "image/png": "[encoded data removed]",
      "text/plain": [
       "<Figure size 1440x360 with 2 Axes>"
      ]
     },
     "metadata": {},
     "output_type": "display_data"
    }
   ],
   "source": [
    "num_frames = 1600\n",
    "batch_size = 32\n",
    "replay_buffer = ReplayBuffer(2 * batch_size) #2 possible actions each round, batch_size rounds per batch\n",
    "gamma      = 0.99\n",
    "losses = []\n",
    "episode_reward = 0\n",
    "avg_loss = 0\n",
    "avg_losses = []\n",
    "state = env.reset()\n",
    "for frame_idx in range(1, num_frames + 1):\n",
    "    epsilon = epsilon_by_frame(frame_idx)\n",
    "    action = model.act(state, epsilon)\n",
    "    next_state, reward, done, _ = env.step(int(action))\n",
    "    replay_buffer.push(state, action, reward, next_state, done)\n",
    "    \n",
    "    state = next_state\n",
    "    episode_reward += reward\n",
    "    #env.render()\n",
    "    if done:\n",
    "        state = env.reset()\n",
    "    \n",
    "    if len(replay_buffer) > batch_size:\n",
    "        loss = compute_td_loss(batch_size)\n",
    "        losses.append(loss.data[0])\n",
    "        avg_losses.append((avg_loss + loss.data[0])/frame_idx)\n",
    "        avg_loss = 0\n",
    "    try:\n",
    "        avg_loss = avg_loss + loss.data[0]\n",
    "    except:\n",
    "        pass\n",
    "    \n",
    "    if frame_idx % 50 == 0:\n",
    "        clear_output(True)\n",
    "        plt.figure(figsize=(20,5))\n",
    "        plt.subplot(131)\n",
    "        plt.plot(losses)\n",
    "        plt.subplot(132)\n",
    "        plt.plot(avg_losses)\n",
    "        plt.show()\n",
    "env.close()"
   ]
  },
  {
   "cell_type": "markdown",
   "metadata": {},
   "source": [
    "### Test it out\n",
    "\n",
    "Player picked 1st door, Monty opened 2nd door, player should switch to 3rd door"
   ]
  },
  {
   "cell_type": "code",
   "execution_count": 13,
   "metadata": {},
   "outputs": [
    {
     "data": {
      "text/plain": [
       "\n",
       " 2\n",
       "[torch.cuda.LongTensor of size (1,) (GPU 0)]"
      ]
     },
     "execution_count": 13,
     "metadata": {},
     "output_type": "execute_result"
    }
   ],
   "source": [
    "model.act(np.array([1.,2.,0.]), 0.00001) # want 2"
   ]
  },
  {
   "cell_type": "markdown",
   "metadata": {},
   "source": [
    "Player picked 2nd door, Monty opened 1st door, player should switch to 3rd door ... etc"
   ]
  },
  {
   "cell_type": "code",
   "execution_count": 14,
   "metadata": {},
   "outputs": [
    {
     "data": {
      "text/plain": [
       "\n",
       " 2\n",
       "[torch.cuda.LongTensor of size (1,) (GPU 0)]"
      ]
     },
     "execution_count": 14,
     "metadata": {},
     "output_type": "execute_result"
    }
   ],
   "source": [
    "model.act(np.array([2.,1.,0.]), 0.00001) # want 2"
   ]
  },
  {
   "cell_type": "code",
   "execution_count": 15,
   "metadata": {},
   "outputs": [
    {
     "data": {
      "text/plain": [
       "\n",
       " 1\n",
       "[torch.cuda.LongTensor of size (1,) (GPU 0)]"
      ]
     },
     "execution_count": 15,
     "metadata": {},
     "output_type": "execute_result"
    }
   ],
   "source": [
    "model.act(np.array([2.,0.,1.]), 0.00001) # want 1"
   ]
  },
  {
   "cell_type": "code",
   "execution_count": 16,
   "metadata": {},
   "outputs": [
    {
     "data": {
      "text/plain": [
       "\n",
       " 0\n",
       "[torch.cuda.LongTensor of size (1,) (GPU 0)]"
      ]
     },
     "execution_count": 16,
     "metadata": {},
     "output_type": "execute_result"
    }
   ],
   "source": [
    "model.act(np.array([0.,2.,1.]), 0.00001) # want 0"
   ]
  }
 ],
 "metadata": {
  "kernelspec": {
   "display_name": "Python 3",
   "language": "python",
   "name": "python3"
  },
  "language_info": {
   "codemirror_mode": {
    "name": "ipython",
    "version": 3
   },
   "file_extension": ".py",
   "mimetype": "text/x-python",
   "name": "python",
   "nbconvert_exporter": "python",
   "pygments_lexer": "ipython3",
   "version": "3.6.5"
  }
 },
 "nbformat": 4,
 "nbformat_minor": 2
}
